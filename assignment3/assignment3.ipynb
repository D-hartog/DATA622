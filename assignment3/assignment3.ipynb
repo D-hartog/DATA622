{
 "cells": [
  {
   "cell_type": "markdown",
   "id": "0eb43381-d4f2-4757-b9d4-411dec77db08",
   "metadata": {},
   "source": [
    "<center><h1>Assignment 3 - Support Vector Machines</h1></center>\n",
    "<center><strong>Data 622: Big Data and Machine Learning</strong></center>\n",
    "<center><em>Dirk Hartog</em></center>"
   ]
  },
  {
   "cell_type": "markdown",
   "id": "a1b92367-9540-4b2e-9e9b-7d4f042e4e77",
   "metadata": {},
   "source": [
    "## Import Libraries"
   ]
  },
  {
   "cell_type": "code",
   "execution_count": 2,
   "id": "ca3aa267-5ce7-4347-b6bd-24566325224e",
   "metadata": {},
   "outputs": [],
   "source": [
    "import pandas as pd\n",
    "import numpy as np\n",
    "import seaborn as sns\n",
    "import matplotlib.pyplot as plt\n",
    "\n",
    "# Import package to create svm classifier\n",
    "from sklearn.svm import SVC # this will make a support vector machine for classificaiton\n",
    "\n",
    "# Feature engineering \n",
    "from sklearn.preprocessing import StandardScaler, OneHotEncoder\n",
    "\n",
    "# Import packages for model tuning\n",
    "from sklearn.model_selection import train_test_split, RandomizedSearchCV, GridSearchCV, KFold, cross_val_score\n",
    "\n",
    "# import libraries for obtaining metrics\n",
    "from sklearn.metrics import f1_score, recall_score, accuracy_score, precision_score, roc_curve, roc_auc_score, confusion_matrix, ConfusionMatrixDisplay\n"
   ]
  },
  {
   "cell_type": "markdown",
   "id": "d63e70d7-8f76-41e0-8b78-847289657bd7",
   "metadata": {},
   "source": [
    "## Data Set: Parkinson's Disease\n",
    "\n",
    "For this assignement we will be using the Parkinsons Disease Data set from assignment 1 & 2. The primary goal of project is to build and evluate the performance of a support vector machine classifier to predict the presence of Parkinson's Disease and compare it to the perfromace of the decision trees and random forest techniques used in assignment 2. \n",
    "\n",
    "The Parkinsons Disease Data set that can be found at <a href = \"https://www.kaggle.com/datasets/rabieelkharoua/parkinsons-disease-dataset-analysis\">Kaggle.com</a>. "
   ]
  },
  {
   "cell_type": "code",
   "execution_count": 5,
   "id": "91e3340e-db29-4ac5-a358-7817a8c906bb",
   "metadata": {},
   "outputs": [],
   "source": [
    "# Import Parkinson's Data \n",
    "\n",
    "data =  pd.read_csv(\"https://raw.githubusercontent.com/D-hartog/DATA622/refs/heads/main/assignment1/parkinsons_disease_data.csv\")\n",
    "\n",
    "parkinsons_df = data.copy()"
   ]
  },
  {
   "cell_type": "markdown",
   "id": "9bad1e57-ba45-46bc-8d9a-d76d787b93fd",
   "metadata": {},
   "source": [
    "### Data Key\n",
    "\n",
    "**Patient Information**\n",
    "\n",
    "- Patient ID\n",
    "    - PatientID: A unique identifier assigned to each patient (3058 to 5162).\n",
    "- Demographic Details\n",
    "    - Age: The age of the patients ranges from 50 to 90 years.\n",
    "    - Gender: Gender of the patients, where 0 represents Male and 1 represents Female.\n",
    "    - Ethnicity: The ethnicity of the patients, coded as follows:\n",
    "        - 0: Caucasian\n",
    "        - 1: African American\n",
    "        - 2: Asian\n",
    "        - 3: Other\n",
    "    - EducationLevel: The education level of the patients, coded as follows:\n",
    "        - 0: None\n",
    "        - 1: High School\n",
    "        - 2: Bachelor's\n",
    "        - 3: Higher\n",
    "- Lifestyle Factors\n",
    "    - BMI: Body Mass Index of the patients, ranging from 15 to 40.\n",
    "    - Smoking: Smoking status, where 0 indicates No and 1 indicates Yes.        \n",
    "    - AlcoholConsumption: Weekly alcohol consumption in units, ranging from 0 to 20.\n",
    "    - PhysicalActivity: Weekly physical activity in hours, ranging from 0 to 10.\n",
    "    - DietQuality: Diet quality score, ranging from 0 to 10.\n",
    "    - SleepQuality: Sleep quality score, ranging from 4 to 10.\n",
    "    \n",
    "**Medical History**\n",
    "\n",
    "- FamilyHistoryParkinsons: Family history of Parkinson's Disease, where 0 indicates No and 1 indicates Yes.\n",
    "- TraumaticBrainInjury: History of traumatic brain injury, where 0 indicates No and 1 indicates Yes.\n",
    "- Hypertension: Presence of hypertension, where 0 indicates No and 1 indicates Yes.\n",
    "- Diabetes: Presence of diabetes, where 0 indicates No and 1 indicates Yes.\n",
    "- Depression: Presence of depression, where 0 indicates No and 1 indicates Yes.\n",
    "- Stroke: History of stroke, where 0 indicates No and 1 indicates Yes.\n",
    "    \n",
    "**Clinical Measurements**\n",
    "\n",
    "- SystolicBP: Systolic blood pressure, ranging from 90 to 180 mmHg.\n",
    "- DiastolicBP: Diastolic blood pressure, ranging from 60 to 120 mmHg.\n",
    "- CholesterolTotal: Total cholesterol levels, ranging from 150 to 300 mg/dL.\n",
    "- CholesterolLDL: Low-density lipoprotein cholesterol levels, ranging from 50 to 200 mg/dL.\n",
    "- CholesterolHDL: High-density lipoprotein cholesterol levels, ranging from 20 to 100 mg/dL.\n",
    "- CholesterolTriglycerides: Triglycerides levels, ranging from 50 to 400 mg/dL.\n",
    "    \n",
    "**Cognitive and Functional Assessments**\n",
    "\n",
    "- UPDRS: Unified Parkinson's Disease Rating Scale score, ranging from 0 to 199. Higher scores indicate greater severity of the disease.\n",
    "- MoCA: Montreal Cognitive Assessment score, ranging from 0 to 30. Lower scores indicate cognitive impairment.\n",
    "- FunctionalAssessment: Functional assessment score, ranging from 0 to 10. Lower scores indicate greater impairment.\n",
    "    \n",
    "**Symptoms**\n",
    "\n",
    "- Tremor: Presence of tremor, where 0 indicates No and 1 indicates Yes.\n",
    "- Rigidity: Presence of muscle rigidity, where 0 indicates No and 1 indicates Yes.\n",
    "- Bradykinesia: Presence of bradykinesia (slowness of movement), where 0 indicates No and 1 indicates Yes.\n",
    "- PosturalInstability: Presence of postural instability, where 0 indicates No and 1 indicates Yes.\n",
    "- SpeechProblems: Presence of speech problems, where 0 indicates No and 1 indicates Yes.\n",
    "- SleepDisorders: Presence of sleep disorders, where 0 indicates No and 1 indicates Yes.\n",
    "- Constipation: Presence of constipation, where 0 indicates No and 1 indicates Yes.\n",
    "    \n",
    "**Diagnosis Information**\n",
    "\n",
    "- Diagnosis: Diagnosis status for Parkinson's Disease, where 0 indicates No and 1 indicates Yes.\n",
    "    \n",
    "**Confidential Information**\n",
    "\n",
    "- DoctorInCharge: This column contains confidential information about the doctor in charge, with \"DrXXXConfid\" as the value for all patients.\n"
   ]
  },
  {
   "cell_type": "markdown",
   "id": "15a30d8c-085f-4580-8f1e-4ae77ec64308",
   "metadata": {},
   "source": [
    "### Brief Exploratory Data Analysis"
   ]
  },
  {
   "cell_type": "code",
   "execution_count": 9,
   "id": "2268ac6d-a7e4-401b-ac01-3f7a047b46cb",
   "metadata": {},
   "outputs": [
    {
     "name": "stdout",
     "output_type": "stream",
     "text": [
      "<class 'pandas.core.frame.DataFrame'>\n",
      "RangeIndex: 2105 entries, 0 to 2104\n",
      "Data columns (total 35 columns):\n",
      " #   Column                    Non-Null Count  Dtype  \n",
      "---  ------                    --------------  -----  \n",
      " 0   PatientID                 2105 non-null   int64  \n",
      " 1   Age                       2105 non-null   int64  \n",
      " 2   Gender                    2105 non-null   int64  \n",
      " 3   Ethnicity                 2105 non-null   int64  \n",
      " 4   EducationLevel            2105 non-null   int64  \n",
      " 5   BMI                       2105 non-null   float64\n",
      " 6   Smoking                   2105 non-null   int64  \n",
      " 7   AlcoholConsumption        2105 non-null   float64\n",
      " 8   PhysicalActivity          2105 non-null   float64\n",
      " 9   DietQuality               2105 non-null   float64\n",
      " 10  SleepQuality              2105 non-null   float64\n",
      " 11  FamilyHistoryParkinsons   2105 non-null   int64  \n",
      " 12  TraumaticBrainInjury      2105 non-null   int64  \n",
      " 13  Hypertension              2105 non-null   int64  \n",
      " 14  Diabetes                  2105 non-null   int64  \n",
      " 15  Depression                2105 non-null   int64  \n",
      " 16  Stroke                    2105 non-null   int64  \n",
      " 17  SystolicBP                2105 non-null   int64  \n",
      " 18  DiastolicBP               2105 non-null   int64  \n",
      " 19  CholesterolTotal          2105 non-null   float64\n",
      " 20  CholesterolLDL            2105 non-null   float64\n",
      " 21  CholesterolHDL            2105 non-null   float64\n",
      " 22  CholesterolTriglycerides  2105 non-null   float64\n",
      " 23  UPDRS                     2105 non-null   float64\n",
      " 24  MoCA                      2105 non-null   float64\n",
      " 25  FunctionalAssessment      2105 non-null   float64\n",
      " 26  Tremor                    2105 non-null   int64  \n",
      " 27  Rigidity                  2105 non-null   int64  \n",
      " 28  Bradykinesia              2105 non-null   int64  \n",
      " 29  PosturalInstability       2105 non-null   int64  \n",
      " 30  SpeechProblems            2105 non-null   int64  \n",
      " 31  SleepDisorders            2105 non-null   int64  \n",
      " 32  Constipation              2105 non-null   int64  \n",
      " 33  Diagnosis                 2105 non-null   int64  \n",
      " 34  DoctorInCharge            2105 non-null   object \n",
      "dtypes: float64(12), int64(22), object(1)\n",
      "memory usage: 575.7+ KB\n"
     ]
    }
   ],
   "source": [
    "parkinsons_df.info()"
   ]
  },
  {
   "cell_type": "code",
   "execution_count": 11,
   "id": "b66537a0-204f-4d8a-806d-4b9dc5c11f93",
   "metadata": {},
   "outputs": [
    {
     "data": {
      "text/html": [
       "<div>\n",
       "<style scoped>\n",
       "    .dataframe tbody tr th:only-of-type {\n",
       "        vertical-align: middle;\n",
       "    }\n",
       "\n",
       "    .dataframe tbody tr th {\n",
       "        vertical-align: top;\n",
       "    }\n",
       "\n",
       "    .dataframe thead th {\n",
       "        text-align: right;\n",
       "    }\n",
       "</style>\n",
       "<table border=\"1\" class=\"dataframe\">\n",
       "  <thead>\n",
       "    <tr style=\"text-align: right;\">\n",
       "      <th></th>\n",
       "      <th>PatientID</th>\n",
       "      <th>Age</th>\n",
       "      <th>Gender</th>\n",
       "      <th>Ethnicity</th>\n",
       "      <th>EducationLevel</th>\n",
       "      <th>BMI</th>\n",
       "      <th>Smoking</th>\n",
       "      <th>AlcoholConsumption</th>\n",
       "      <th>PhysicalActivity</th>\n",
       "      <th>DietQuality</th>\n",
       "      <th>...</th>\n",
       "      <th>FunctionalAssessment</th>\n",
       "      <th>Tremor</th>\n",
       "      <th>Rigidity</th>\n",
       "      <th>Bradykinesia</th>\n",
       "      <th>PosturalInstability</th>\n",
       "      <th>SpeechProblems</th>\n",
       "      <th>SleepDisorders</th>\n",
       "      <th>Constipation</th>\n",
       "      <th>Diagnosis</th>\n",
       "      <th>DoctorInCharge</th>\n",
       "    </tr>\n",
       "  </thead>\n",
       "  <tbody>\n",
       "    <tr>\n",
       "      <th>0</th>\n",
       "      <td>3058</td>\n",
       "      <td>85</td>\n",
       "      <td>0</td>\n",
       "      <td>3</td>\n",
       "      <td>1</td>\n",
       "      <td>19.619878</td>\n",
       "      <td>0</td>\n",
       "      <td>5.108241</td>\n",
       "      <td>1.380660</td>\n",
       "      <td>3.893969</td>\n",
       "      <td>...</td>\n",
       "      <td>1.572427</td>\n",
       "      <td>1</td>\n",
       "      <td>0</td>\n",
       "      <td>0</td>\n",
       "      <td>0</td>\n",
       "      <td>0</td>\n",
       "      <td>0</td>\n",
       "      <td>0</td>\n",
       "      <td>0</td>\n",
       "      <td>DrXXXConfid</td>\n",
       "    </tr>\n",
       "    <tr>\n",
       "      <th>1</th>\n",
       "      <td>3059</td>\n",
       "      <td>75</td>\n",
       "      <td>0</td>\n",
       "      <td>0</td>\n",
       "      <td>2</td>\n",
       "      <td>16.247339</td>\n",
       "      <td>1</td>\n",
       "      <td>6.027648</td>\n",
       "      <td>8.409804</td>\n",
       "      <td>8.513428</td>\n",
       "      <td>...</td>\n",
       "      <td>4.787551</td>\n",
       "      <td>0</td>\n",
       "      <td>1</td>\n",
       "      <td>0</td>\n",
       "      <td>1</td>\n",
       "      <td>0</td>\n",
       "      <td>1</td>\n",
       "      <td>0</td>\n",
       "      <td>1</td>\n",
       "      <td>DrXXXConfid</td>\n",
       "    </tr>\n",
       "    <tr>\n",
       "      <th>2</th>\n",
       "      <td>3060</td>\n",
       "      <td>70</td>\n",
       "      <td>1</td>\n",
       "      <td>0</td>\n",
       "      <td>0</td>\n",
       "      <td>15.368239</td>\n",
       "      <td>0</td>\n",
       "      <td>2.242135</td>\n",
       "      <td>0.213275</td>\n",
       "      <td>6.498805</td>\n",
       "      <td>...</td>\n",
       "      <td>2.130686</td>\n",
       "      <td>1</td>\n",
       "      <td>0</td>\n",
       "      <td>0</td>\n",
       "      <td>0</td>\n",
       "      <td>1</td>\n",
       "      <td>0</td>\n",
       "      <td>1</td>\n",
       "      <td>1</td>\n",
       "      <td>DrXXXConfid</td>\n",
       "    </tr>\n",
       "    <tr>\n",
       "      <th>3</th>\n",
       "      <td>3061</td>\n",
       "      <td>52</td>\n",
       "      <td>0</td>\n",
       "      <td>0</td>\n",
       "      <td>0</td>\n",
       "      <td>15.454557</td>\n",
       "      <td>0</td>\n",
       "      <td>5.997788</td>\n",
       "      <td>1.375045</td>\n",
       "      <td>6.715033</td>\n",
       "      <td>...</td>\n",
       "      <td>3.391288</td>\n",
       "      <td>1</td>\n",
       "      <td>1</td>\n",
       "      <td>1</td>\n",
       "      <td>0</td>\n",
       "      <td>0</td>\n",
       "      <td>0</td>\n",
       "      <td>1</td>\n",
       "      <td>1</td>\n",
       "      <td>DrXXXConfid</td>\n",
       "    </tr>\n",
       "    <tr>\n",
       "      <th>4</th>\n",
       "      <td>3062</td>\n",
       "      <td>87</td>\n",
       "      <td>0</td>\n",
       "      <td>0</td>\n",
       "      <td>1</td>\n",
       "      <td>18.616042</td>\n",
       "      <td>0</td>\n",
       "      <td>9.775243</td>\n",
       "      <td>1.188607</td>\n",
       "      <td>4.657572</td>\n",
       "      <td>...</td>\n",
       "      <td>3.200969</td>\n",
       "      <td>0</td>\n",
       "      <td>0</td>\n",
       "      <td>0</td>\n",
       "      <td>1</td>\n",
       "      <td>0</td>\n",
       "      <td>1</td>\n",
       "      <td>0</td>\n",
       "      <td>0</td>\n",
       "      <td>DrXXXConfid</td>\n",
       "    </tr>\n",
       "  </tbody>\n",
       "</table>\n",
       "<p>5 rows × 35 columns</p>\n",
       "</div>"
      ],
      "text/plain": [
       "   PatientID  Age  Gender  Ethnicity  EducationLevel        BMI  Smoking  \\\n",
       "0       3058   85       0          3               1  19.619878        0   \n",
       "1       3059   75       0          0               2  16.247339        1   \n",
       "2       3060   70       1          0               0  15.368239        0   \n",
       "3       3061   52       0          0               0  15.454557        0   \n",
       "4       3062   87       0          0               1  18.616042        0   \n",
       "\n",
       "   AlcoholConsumption  PhysicalActivity  DietQuality  ...  \\\n",
       "0            5.108241          1.380660     3.893969  ...   \n",
       "1            6.027648          8.409804     8.513428  ...   \n",
       "2            2.242135          0.213275     6.498805  ...   \n",
       "3            5.997788          1.375045     6.715033  ...   \n",
       "4            9.775243          1.188607     4.657572  ...   \n",
       "\n",
       "   FunctionalAssessment  Tremor  Rigidity  Bradykinesia  PosturalInstability  \\\n",
       "0              1.572427       1         0             0                    0   \n",
       "1              4.787551       0         1             0                    1   \n",
       "2              2.130686       1         0             0                    0   \n",
       "3              3.391288       1         1             1                    0   \n",
       "4              3.200969       0         0             0                    1   \n",
       "\n",
       "   SpeechProblems  SleepDisorders  Constipation  Diagnosis  DoctorInCharge  \n",
       "0               0               0             0          0     DrXXXConfid  \n",
       "1               0               1             0          1     DrXXXConfid  \n",
       "2               1               0             1          1     DrXXXConfid  \n",
       "3               0               0             1          1     DrXXXConfid  \n",
       "4               0               1             0          0     DrXXXConfid  \n",
       "\n",
       "[5 rows x 35 columns]"
      ]
     },
     "execution_count": 11,
     "metadata": {},
     "output_type": "execute_result"
    }
   ],
   "source": [
    "parkinsons_df.head()"
   ]
  },
  {
   "cell_type": "code",
   "execution_count": 13,
   "id": "a6c488f9-d215-4d1d-83cd-188ef5d8ce98",
   "metadata": {},
   "outputs": [],
   "source": [
    "# Drop the DoctorInCharge and PatientID as this feature does not add any predictive value\n",
    "\n",
    "parkinsons_df.drop(columns= [\"DoctorInCharge\", \"PatientID\"], inplace = True)"
   ]
  },
  {
   "cell_type": "code",
   "execution_count": 15,
   "id": "9203b4ce-2f87-4443-a3a0-67af3c32458a",
   "metadata": {},
   "outputs": [],
   "source": [
    "# Convert necessary columns to categorical data types\n",
    "\n",
    "cols_to_convert = [\"Gender\", \"Ethnicity\", \"EducationLevel\", \"Smoking\", \"FamilyHistoryParkinsons\",\n",
    "                 \"TraumaticBrainInjury\", \"Hypertension\", \"Diabetes\", \"Stroke\", \"Tremor\", \"Rigidity\", \n",
    "                 \"Bradykinesia\", \"PosturalInstability\", \"SpeechProblems\", \"SleepDisorders\", \"Constipation\",\n",
    "                 \"Diagnosis\", \"Depression\"]\n",
    "\n",
    "for col in cols_to_convert: \n",
    "    parkinsons_df[col] = parkinsons_df[col].astype(\"object\")"
   ]
  },
  {
   "cell_type": "markdown",
   "id": "ca276a82-28c1-47e2-a936-a9ee3027358f",
   "metadata": {},
   "source": [
    "## Building Support Vector Machines\n",
    "\n",
    "All of the support vector machines will be built with the radial basis function kernel. The rbf kernal computes the similarity between data points based on their Euclidean distance in a high-dimensional space. "
   ]
  },
  {
   "cell_type": "markdown",
   "id": "85a608ef-fafa-4a34-a3a5-80461d78cb2e",
   "metadata": {},
   "source": [
    "### MODEL 1: SVM with all features\n",
    "\n",
    "- Default values for gamma and C will be used"
   ]
  },
  {
   "cell_type": "markdown",
   "id": "36945aab-657a-448a-b4b5-4793e1ca9a34",
   "metadata": {},
   "source": [
    "**STEP 1:** Split the data into training and testing data sets"
   ]
  },
  {
   "cell_type": "code",
   "execution_count": 20,
   "id": "6811c4aa-8507-4746-82d0-0851772b1f0e",
   "metadata": {},
   "outputs": [
    {
     "name": "stderr",
     "output_type": "stream",
     "text": [
      "/Applications/anaconda3/lib/python3.9/site-packages/pandas/core/algorithms.py:798: FutureWarning: In a future version, the Index constructor will not infer numeric dtypes when passed object-dtype sequences (matching Series behavior)\n",
      "  uniques = Index(uniques)\n"
     ]
    }
   ],
   "source": [
    "X = parkinsons_df.drop([\"Diagnosis\"], axis = 1)\n",
    "X = pd.get_dummies(X, dtype = int)\n",
    "\n",
    "y = parkinsons_df[\"Diagnosis\"].astype(\"int64\")\n",
    "\n",
    "X_train, X_test, y_train, y_test = train_test_split(X, y, test_size = 0.3, random_state=42)"
   ]
  },
  {
   "cell_type": "markdown",
   "id": "f4495fd8-33d4-4fd7-83b0-db726cdbe306",
   "metadata": {},
   "source": [
    "**STEP 2:** Center and scale the data as \"rbf\" assumes that the data follows a normal distribution"
   ]
  },
  {
   "cell_type": "code",
   "execution_count": 23,
   "id": "c5f9a4c3-66d5-4b6b-8ee6-b39cb18b4edf",
   "metadata": {},
   "outputs": [],
   "source": [
    "scaler = StandardScaler().fit(X_train)\n",
    "X_train_scaled = scaler.transform(X_train)\n",
    "X_test_scaled = scaler.transform(X_test)"
   ]
  },
  {
   "cell_type": "markdown",
   "id": "71d8148c-ffc1-4bb5-b135-d3388f8a61d0",
   "metadata": {},
   "source": [
    "**STEP 3:** Fit the model with training data and run predictions with the test data  "
   ]
  },
  {
   "cell_type": "code",
   "execution_count": 26,
   "id": "f4a1c78b-048d-4b9b-8484-a23900610636",
   "metadata": {},
   "outputs": [],
   "source": [
    "# Fit model with training data\n",
    "\n",
    "clf_svm = SVC(random_state=42)\n",
    "clf_svm.fit(X_train_scaled, y_train)\n",
    "\n",
    "# Predict classes with test data\n",
    "y_pred = clf_svm.predict(X_test_scaled)"
   ]
  },
  {
   "cell_type": "markdown",
   "id": "43d62da7-9e5b-4d23-b27b-d30bc053ddde",
   "metadata": {},
   "source": [
    "**STEP 4:** Visualize confusion matrix and get evaluate model performance"
   ]
  },
  {
   "cell_type": "code",
   "execution_count": 29,
   "id": "f060a4b7-3b39-4afb-912d-0b9fe14d9b70",
   "metadata": {},
   "outputs": [
    {
     "data": {
      "image/png": "[encoded data removed]",
      "text/plain": [
       "<Figure size 640x480 with 2 Axes>"
      ]
     },
     "metadata": {},
     "output_type": "display_data"
    }
   ],
   "source": [
    "## Create a confusion Matrix \n",
    "\n",
    "# Confusion Matrix \n",
    "\n",
    "con_mat = confusion_matrix(y_true = y_test, \n",
    "                           y_pred = y_pred, labels = clf_svm.classes_)\n",
    "sns.heatmap(con_mat, annot=True,\n",
    "           xticklabels = [\"No\", \"Yes\"],\n",
    "           yticklabels = [\"No\", \"Yes\"], \n",
    "           fmt=\"d\", \n",
    "           cmap=\"viridis\")\n",
    "\n",
    "# Set labels so they are not in exponential form \n",
    "plt.ylabel(\"True Diagnosis\")\n",
    "plt.xlabel(\"Predicted Diagnosis\")\n",
    "plt.figtext(x = 0.5, y = -0.04, s = \"Fig. 1\", fontstyle = \"italic\", fontweight = \"demibold\", fontsize = 12)\n",
    "plt.title(\"Confusion Matrix: SVM_rbf\")\n",
    "plt.show()"
   ]
  },
  {
   "cell_type": "code",
   "execution_count": 31,
   "id": "18059c28-7b4e-4247-b55a-2c8c5178726c",
   "metadata": {},
   "outputs": [
    {
     "data": {
      "text/html": [
       "<div>\n",
       "<style scoped>\n",
       "    .dataframe tbody tr th:only-of-type {\n",
       "        vertical-align: middle;\n",
       "    }\n",
       "\n",
       "    .dataframe tbody tr th {\n",
       "        vertical-align: top;\n",
       "    }\n",
       "\n",
       "    .dataframe thead th {\n",
       "        text-align: right;\n",
       "    }\n",
       "</style>\n",
       "<table border=\"1\" class=\"dataframe\">\n",
       "  <thead>\n",
       "    <tr style=\"text-align: right;\">\n",
       "      <th></th>\n",
       "      <th>Metric</th>\n",
       "      <th>Values</th>\n",
       "    </tr>\n",
       "  </thead>\n",
       "  <tbody>\n",
       "    <tr>\n",
       "      <th>0</th>\n",
       "      <td>F1_score</td>\n",
       "      <td>0.836186</td>\n",
       "    </tr>\n",
       "    <tr>\n",
       "      <th>1</th>\n",
       "      <td>Sensitivty</td>\n",
       "      <td>0.865823</td>\n",
       "    </tr>\n",
       "    <tr>\n",
       "      <th>2</th>\n",
       "      <td>Specificity</td>\n",
       "      <td>0.658228</td>\n",
       "    </tr>\n",
       "    <tr>\n",
       "      <th>3</th>\n",
       "      <td>Precision</td>\n",
       "      <td>0.808511</td>\n",
       "    </tr>\n",
       "    <tr>\n",
       "      <th>4</th>\n",
       "      <td>Accuracy</td>\n",
       "      <td>0.787975</td>\n",
       "    </tr>\n",
       "    <tr>\n",
       "      <th>5</th>\n",
       "      <td>AUC</td>\n",
       "      <td>0.762025</td>\n",
       "    </tr>\n",
       "  </tbody>\n",
       "</table>\n",
       "</div>"
      ],
      "text/plain": [
       "        Metric    Values\n",
       "0     F1_score  0.836186\n",
       "1   Sensitivty  0.865823\n",
       "2  Specificity  0.658228\n",
       "3    Precision  0.808511\n",
       "4     Accuracy  0.787975\n",
       "5          AUC  0.762025"
      ]
     },
     "execution_count": 31,
     "metadata": {},
     "output_type": "execute_result"
    }
   ],
   "source": [
    "# Caluculate performance metrics\n",
    "\n",
    "# F1 Score \n",
    "\n",
    "clf_svm_f1 = f1_score(y_test, y_pred)\n",
    "\n",
    "# Sensitivity\n",
    "clf_svm_sens = recall_score(y_test, y_pred)\n",
    "\n",
    "# Precision\n",
    "clf_svm_prec = precision_score(y_test, y_pred)\n",
    "\n",
    "# Specificity\n",
    "clf_svm_spec = con_mat[0,0]/(con_mat[0,0] + con_mat[0,1])\n",
    "\n",
    "# Accuracy\n",
    "clf_svm_acc = accuracy_score(y_test, y_pred)\n",
    "\n",
    "# Area under the ROC curve\n",
    "clf_svm_auc = roc_auc_score(y_test, y_pred)\n",
    "\n",
    "clf_svm_metrics = pd.DataFrame({\"Metric\": [\"F1_score\",\"Sensitivty\", \"Specificity\", \"Precision\", \"Accuracy\", \"AUC\"], \n",
    "                                \"Values\" : [clf_svm_f1, clf_svm_sens, clf_svm_spec, clf_svm_prec, clf_svm_acc, clf_svm_auc]})\n",
    "\n",
    "clf_svm_metrics"
   ]
  },
  {
   "cell_type": "code",
   "execution_count": 33,
   "id": "22613012-64a5-4ec6-ab0b-b78981255450",
   "metadata": {},
   "outputs": [
    {
     "data": {
      "image/png": "[encoded data removed]",
      "text/plain": [
       "<Figure size 640x480 with 1 Axes>"
      ]
     },
     "metadata": {},
     "output_type": "display_data"
    }
   ],
   "source": [
    "# ROC curve\n",
    "fpr, tpr, thresholds, = roc_curve(y_test, y_pred)\n",
    "plt.plot([0,1], [0,1], 'k--')\n",
    "plt.plot(fpr, tpr)\n",
    "plt.xlabel('False Positive Rate')\n",
    "plt.ylabel('True Positive Rate')\n",
    "plt.title('Logistic Regression - ROC Curve')\n",
    "plt.figtext(x = 0.5, y = -0.04, s = \"Fig. 2\", fontstyle = \"italic\", fontweight = \"demibold\", fontsize = 12)\n",
    "plt.show()"
   ]
  },
  {
   "cell_type": "code",
   "execution_count": 35,
   "id": "a01b68dd-2df2-492d-83d7-31618504664e",
   "metadata": {},
   "outputs": [
    {
     "name": "stdout",
     "output_type": "stream",
     "text": [
      "0.7620253164556962\n"
     ]
    }
   ],
   "source": [
    "print(roc_auc_score(y_test, y_pred))"
   ]
  },
  {
   "cell_type": "markdown",
   "id": "7c8002b2-2d05-4f7e-b716-e678ae56546c",
   "metadata": {},
   "source": [
    "### MODEL 2: SVM with all features and cross validation"
   ]
  },
  {
   "cell_type": "code",
   "execution_count": 38,
   "id": "cac69796-f0d3-4976-b86a-9d8ea5cf6b6d",
   "metadata": {},
   "outputs": [
    {
     "name": "stdout",
     "output_type": "stream",
     "text": [
      "{'C': 10, 'gamma': 0.001, 'kernel': 'rbf'}\n"
     ]
    }
   ],
   "source": [
    "# Get default value for gamma\n",
    "num_features = np.size(X_train_scaled, axis=1)\n",
    "\n",
    "# Create the parameter grid\n",
    "param_grid = [\n",
    "  {'C': [1, 10, 100, 1000], \n",
    "   'gamma': [1/num_features, 1, 0.1, 0.01, 0.001, 0.0001], \n",
    "   'kernel': ['rbf', 'poly']},\n",
    "]\n",
    "\n",
    "optimal_params = GridSearchCV(\n",
    "        SVC(), \n",
    "        param_grid,\n",
    "        cv=5,\n",
    "        scoring='roc_auc', \n",
    "        verbose=0\n",
    ")\n",
    "\n",
    "optimal_params.fit(X_train_scaled, y_train)\n",
    "print(optimal_params.best_params_)"
   ]
  },
  {
   "cell_type": "markdown",
   "id": "54fc0fdd-1894-4bc3-b1bd-788a09d6a2e9",
   "metadata": {},
   "source": [
    "**REPEAT STEPS 3-4:** \n",
    "\n",
    "- 3. Fit model to the scaled trianing data and use testing data to get predictions \n",
    "- 4. Evaluate model performance"
   ]
  },
  {
   "cell_type": "code",
   "execution_count": 41,
   "id": "b4d0004a-4e7b-45e5-85bc-b5bb2526ab52",
   "metadata": {},
   "outputs": [],
   "source": [
    "# Build the model\n",
    "clf_svm_best = SVC(C = 10, gamma = 0.001, kernel = 'rbf', random_state=42)\n",
    "clf_svm_best.fit(X_train_scaled, y_train)\n",
    "\n",
    "# Predict outcome using test set\n",
    "y_pred = clf_svm_best.predict(X_test_scaled)"
   ]
  },
  {
   "cell_type": "code",
   "execution_count": 43,
   "id": "43de72ba-0949-4466-97ec-38c5adddecd7",
   "metadata": {},
   "outputs": [],
   "source": [
    "# Build a confusion matrix\n",
    "con_mat = confusion_matrix(y_true = y_test, \n",
    "                           y_pred = y_pred, labels = clf_svm_best.classes_)"
   ]
  },
  {
   "cell_type": "code",
   "execution_count": 45,
   "id": "27bd6e3b-0789-4bc1-adaf-49d9b1b294d3",
   "metadata": {},
   "outputs": [
    {
     "data": {
      "text/html": [
       "<div>\n",
       "<style scoped>\n",
       "    .dataframe tbody tr th:only-of-type {\n",
       "        vertical-align: middle;\n",
       "    }\n",
       "\n",
       "    .dataframe tbody tr th {\n",
       "        vertical-align: top;\n",
       "    }\n",
       "\n",
       "    .dataframe thead th {\n",
       "        text-align: right;\n",
       "    }\n",
       "</style>\n",
       "<table border=\"1\" class=\"dataframe\">\n",
       "  <thead>\n",
       "    <tr style=\"text-align: right;\">\n",
       "      <th></th>\n",
       "      <th>Metric</th>\n",
       "      <th>Values</th>\n",
       "    </tr>\n",
       "  </thead>\n",
       "  <tbody>\n",
       "    <tr>\n",
       "      <th>0</th>\n",
       "      <td>F1_score</td>\n",
       "      <td>0.845105</td>\n",
       "    </tr>\n",
       "    <tr>\n",
       "      <th>1</th>\n",
       "      <td>Sensitivty</td>\n",
       "      <td>0.863291</td>\n",
       "    </tr>\n",
       "    <tr>\n",
       "      <th>2</th>\n",
       "      <td>Specificity</td>\n",
       "      <td>0.700422</td>\n",
       "    </tr>\n",
       "    <tr>\n",
       "      <th>3</th>\n",
       "      <td>Precision</td>\n",
       "      <td>0.827670</td>\n",
       "    </tr>\n",
       "    <tr>\n",
       "      <th>4</th>\n",
       "      <td>Accuracy</td>\n",
       "      <td>0.802215</td>\n",
       "    </tr>\n",
       "    <tr>\n",
       "      <th>5</th>\n",
       "      <td>AUC</td>\n",
       "      <td>0.781857</td>\n",
       "    </tr>\n",
       "  </tbody>\n",
       "</table>\n",
       "</div>"
      ],
      "text/plain": [
       "        Metric    Values\n",
       "0     F1_score  0.845105\n",
       "1   Sensitivty  0.863291\n",
       "2  Specificity  0.700422\n",
       "3    Precision  0.827670\n",
       "4     Accuracy  0.802215\n",
       "5          AUC  0.781857"
      ]
     },
     "execution_count": 45,
     "metadata": {},
     "output_type": "execute_result"
    }
   ],
   "source": [
    "\n",
    "# Caluculate performance metrix\n",
    "# F1 Score \n",
    "\n",
    "clf_svm_best_f1 = f1_score(y_test, y_pred)\n",
    "\n",
    "# Sensitivity\n",
    "clf_svm_best_sens = recall_score(y_test, y_pred)\n",
    "\n",
    "# Precision\n",
    "clf_svm_best_prec = precision_score(y_test, y_pred)\n",
    "\n",
    "# Specificity\n",
    "clf_svm_best_spec = con_mat[0,0]/(con_mat[0,0] + con_mat[0,1])\n",
    "\n",
    "# Accuracy\n",
    "clf_svm_best_acc = accuracy_score(y_test, y_pred)\n",
    "\n",
    "# Area under the ROC curve\n",
    "clf_svm_best_auc = roc_auc_score(y_test, y_pred)\n",
    "\n",
    "clf_svm_best_metrics = pd.DataFrame({\"Metric\": [\"F1_score\",\"Sensitivty\", \"Specificity\", \"Precision\", \"Accuracy\", \"AUC\"], \n",
    "                                \"Values\" : [clf_svm_best_f1, clf_svm_best_sens, clf_svm_best_spec, clf_svm_best_prec, clf_svm_best_acc, clf_svm_best_auc]})\n",
    "clf_svm_best_metrics"
   ]
  },
  {
   "cell_type": "markdown",
   "id": "70d0008c-5f19-4477-a815-49b0a975d5ee",
   "metadata": {},
   "source": [
    "### MODEL 3: SVM with reduced dimensions \n",
    "\n",
    "- Reduce dimensions by computing feature importance and using a select number of features. The goal of feature selection here is to evaluate any improvemetn in the model accuracy"
   ]
  },
  {
   "cell_type": "markdown",
   "id": "2aae5d66-84b0-4ed3-a4b6-d88046d8d1ce",
   "metadata": {},
   "source": [
    "**Compute Feature importance**"
   ]
  },
  {
   "cell_type": "code",
   "execution_count": 47,
   "id": "9e4d11cb-bff8-4b9f-9f4b-0993d74aefd6",
   "metadata": {},
   "outputs": [
    {
     "name": "stdout",
     "output_type": "stream",
     "text": [
      "Feature Age: 0.0007911392405062778\n",
      "Feature BMI: 0.010443037974683489\n",
      "Feature AlcoholConsumption: 0.002056962025316389\n",
      "Feature PhysicalActivity: 0.0007911392405062668\n",
      "Feature DietQuality: 0.0007911392405063\n",
      "Feature SleepQuality: 0.006803797468354356\n",
      "Feature SystolicBP: 0.0037974683544303002\n",
      "Feature DiastolicBP: 0.0028481012658227224\n",
      "Feature CholesterolTotal: 0.004113924050632822\n",
      "Feature CholesterolLDL: 0.0003164556962025111\n",
      "Feature CholesterolHDL: 0.0009493670886075334\n",
      "Feature CholesterolTriglycerides: 0.003006329113923989\n",
      "Feature UPDRS: 0.10253164556962022\n",
      "Feature MoCA: 0.018987341772151833\n",
      "Feature FunctionalAssessment: 0.048575949367088554\n",
      "Feature Gender_0: 0.0026898734177214557\n",
      "Feature Gender_1: 0.0026898734177214557\n",
      "Feature Ethnicity_0: -0.0006329113924050777\n",
      "Feature Ethnicity_1: 0.0017405063291138223\n",
      "Feature Ethnicity_2: -0.0004746835443038444\n",
      "Feature Ethnicity_3: -0.0004746835443038222\n",
      "Feature EducationLevel_0: 0.002848101265822711\n",
      "Feature EducationLevel_1: 0.0\n",
      "Feature EducationLevel_2: 0.0031645569620252444\n",
      "Feature EducationLevel_3: -0.00031645569620257773\n",
      "Feature Smoking_0: -0.0017405063291139554\n",
      "Feature Smoking_1: -0.0017405063291139554\n",
      "Feature FamilyHistoryParkinsons_0: 0.00031645569620250005\n",
      "Feature FamilyHistoryParkinsons_1: 0.00031645569620250005\n",
      "Feature TraumaticBrainInjury_0: -0.0007911392405063666\n",
      "Feature TraumaticBrainInjury_1: -0.0007911392405063666\n",
      "Feature Hypertension_0: 0.0003164556962025111\n",
      "Feature Hypertension_1: 0.0003164556962025111\n",
      "Feature Diabetes_0: 0.0011075949367088112\n",
      "Feature Diabetes_1: 0.0011075949367088112\n",
      "Feature Depression_0: 0.0012658227848100668\n",
      "Feature Depression_1: 0.0012658227848100668\n",
      "Feature Stroke_0: 0.00031645569620250005\n",
      "Feature Stroke_1: 0.00031645569620250005\n",
      "Feature Tremor_0: 0.018987341772151844\n",
      "Feature Tremor_1: 0.018987341772151844\n",
      "Feature Rigidity_0: -0.00031645569620257773\n",
      "Feature Rigidity_1: -0.00031645569620257773\n",
      "Feature Bradykinesia_0: 0.0033227848101265224\n",
      "Feature Bradykinesia_1: 0.0033227848101265224\n",
      "Feature PosturalInstability_0: 0.008069620253164489\n",
      "Feature PosturalInstability_1: 0.008069620253164489\n",
      "Feature SpeechProblems_0: 0.0018987341772151\n",
      "Feature SpeechProblems_1: 0.0018987341772151\n",
      "Feature SleepDisorders_0: 0.0006329113924050334\n",
      "Feature SleepDisorders_1: 0.0006329113924050334\n",
      "Feature Constipation_0: 0.00031645569620250005\n",
      "Feature Constipation_1: 0.00031645569620250005\n"
     ]
    }
   ],
   "source": [
    "from sklearn.inspection import permutation_importance\n",
    "\n",
    "# Compute permutation importance\n",
    "results = permutation_importance(clf_svm_best, X_test_scaled, y_test, n_repeats=10, random_state=42)\n",
    "\n",
    "imp_features = {}\n",
    "for i, importance in enumerate(results.importances_mean):\n",
    "    imp_features[X_test.columns[i]] = importance\n",
    "    print(f\"Feature {X_test.columns[i]}: {importance}\")"
   ]
  },
  {
   "cell_type": "code",
   "execution_count": 49,
   "id": "0e4a4de2-53aa-4962-898f-4b6e4ebf8d24",
   "metadata": {},
   "outputs": [],
   "source": [
    "imp_features_df = pd.DataFrame({\"Features\" : imp_features.keys(), \"Importance\" :imp_features.values()})\n",
    "imp_features_df = imp_features_df.sort_values(by = \"Importance\", ascending = False, ignore_index=True)"
   ]
  },
  {
   "cell_type": "code",
   "execution_count": 51,
   "id": "96e1a72f-264e-4585-ae72-a9f53e8663f2",
   "metadata": {},
   "outputs": [],
   "source": [
    "#imp_features_df"
   ]
  },
  {
   "cell_type": "code",
   "execution_count": 53,
   "id": "23381aa5-7022-4c55-a8b9-537b6d8fb7c1",
   "metadata": {},
   "outputs": [
    {
     "data": {
      "text/plain": [
       "['UPDRS',\n",
       " 'FunctionalAssessment',\n",
       " 'Tremor_1',\n",
       " 'Tremor_0',\n",
       " 'MoCA',\n",
       " 'BMI',\n",
       " 'PosturalInstability_0',\n",
       " 'PosturalInstability_1',\n",
       " 'SleepQuality',\n",
       " 'CholesterolTotal',\n",
       " 'SystolicBP',\n",
       " 'Bradykinesia_1',\n",
       " 'Bradykinesia_0']"
      ]
     },
     "execution_count": 53,
     "metadata": {},
     "output_type": "execute_result"
    }
   ],
   "source": [
    "imp_feature_names = list(imp_features_df[\"Features\"][0:13])\n",
    "imp_feature_names"
   ]
  },
  {
   "cell_type": "markdown",
   "id": "1be488e5-0fc6-44f7-af59-cfda6f189a14",
   "metadata": {},
   "source": [
    "**STEPS 1 - 3:** \n",
    "- Extract data into features and target variables\n",
    "- Split into testing and training set\n",
    "- Scale the test and train features "
   ]
  },
  {
   "cell_type": "code",
   "execution_count": 56,
   "id": "0aaedb65-a6e3-4b88-bcea-fa1b3814d05c",
   "metadata": {},
   "outputs": [],
   "source": [
    "X_imp_features = X[imp_feature_names]\n",
    "y = parkinsons_df[\"Diagnosis\"].astype(\"int64\")\n",
    "\n",
    "X_train, X_test, y_train, y_test = train_test_split(X_imp_features, y, test_size = 0.3, random_state=42)\n",
    "\n",
    "scaler = StandardScaler().fit(X_train)\n",
    "X_train_scaled = scaler.transform(X_train)\n",
    "X_test_scaled = scaler.transform(X_test)"
   ]
  },
  {
   "cell_type": "markdown",
   "id": "5adb88b9-7314-444e-ae3b-fe19b4419226",
   "metadata": {},
   "source": [
    "**STEP 4:** Use cross validation with the new set of features"
   ]
  },
  {
   "cell_type": "code",
   "execution_count": 59,
   "id": "9642c32f-d3de-4d4f-a525-e2738f603271",
   "metadata": {},
   "outputs": [
    {
     "name": "stdout",
     "output_type": "stream",
     "text": [
      "{'C': 100, 'gamma': 0.01, 'kernel': 'rbf'}\n"
     ]
    }
   ],
   "source": [
    "# Use the default value for gamma\n",
    "num_features = np.size(X_train_scaled, axis=1)\n",
    "\n",
    "# Create the parameter grid\n",
    "param_grid = [\n",
    "  {'C': [1, 10, 100, 1000], \n",
    "   'gamma': [1/num_features, 1, 0.1, 0.01, 0.001, 0.0001], \n",
    "   'kernel': ['rbf']},\n",
    "]\n",
    "\n",
    "optimal_params = GridSearchCV(\n",
    "        SVC(), \n",
    "        param_grid,\n",
    "        cv=5,\n",
    "        scoring='roc_auc', \n",
    "        verbose=0\n",
    ")\n",
    "\n",
    "optimal_params.fit(X_train_scaled, y_train)\n",
    "print(optimal_params.best_params_)"
   ]
  },
  {
   "cell_type": "markdown",
   "id": "f90adacd-3024-4da1-b764-26fc0736c3ca",
   "metadata": {},
   "source": [
    "**STEP 5 - 6:** \n",
    "- Fit the model setting the C and gamma parameters to the above values \n",
    "- Predict outcomes with the testing data"
   ]
  },
  {
   "cell_type": "code",
   "execution_count": 62,
   "id": "9e9da719-787e-4d6d-aaad-310ad84bd491",
   "metadata": {},
   "outputs": [],
   "source": [
    "clf_svm3 = SVC(C = 100, gamma = 0.01, kernel = 'rbf',random_state=42)\n",
    "clf_svm3.fit(X_train_scaled, y_train)\n",
    "\n",
    "y_pred = clf_svm3.predict(X_test_scaled)"
   ]
  },
  {
   "cell_type": "markdown",
   "id": "b31306d0-3434-46ff-b5b5-631e7c3f2b6f",
   "metadata": {},
   "source": [
    "**STEP 7:** Evaluate the model performance"
   ]
  },
  {
   "cell_type": "code",
   "execution_count": 64,
   "id": "694a9475-f066-4926-a348-0688aeb814aa",
   "metadata": {},
   "outputs": [
    {
     "data": {
      "image/png": "[encoded data removed]",
      "text/plain": [
       "<Figure size 640x480 with 2 Axes>"
      ]
     },
     "metadata": {},
     "output_type": "display_data"
    }
   ],
   "source": [
    "## Create a confusion Matrix \n",
    "\n",
    "# Confusion Matrix \n",
    "\n",
    "con_mat = confusion_matrix(y_true = y_test, \n",
    "                           y_pred = y_pred, labels = clf_svm3.classes_)\n",
    "sns.heatmap(con_mat, annot=True,\n",
    "           xticklabels = [\"No\", \"Yes\"],\n",
    "           yticklabels = [\"No\", \"Yes\"], \n",
    "           fmt=\"d\", \n",
    "           cmap=\"viridis\")\n",
    "\n",
    "# Set labels so they are not in exponential form \n",
    "plt.ylabel(\"True Diagnosis\")\n",
    "plt.xlabel(\"Predicted Diagnosis\")\n",
    "plt.figtext(x = 0.5, y = -0.04, s = \"Fig. 3\", fontstyle = \"italic\", fontweight = \"demibold\", fontsize = 12)\n",
    "plt.title(\"Confusion Matrix: SVM_IMP\")\n",
    "plt.show()"
   ]
  },
  {
   "cell_type": "code",
   "execution_count": 66,
   "id": "8bed0f1e-6cdb-44d9-bf7b-41ad839e12f2",
   "metadata": {},
   "outputs": [],
   "source": [
    "# Calculate metrics\n",
    "\n",
    "# F1 Score \n",
    "\n",
    "clf_svm3_f1 = f1_score(y_test, y_pred)\n",
    "\n",
    "# Sensitivity\n",
    "clf_svm3_sens = recall_score(y_test, y_pred)\n",
    "\n",
    "# Precision\n",
    "clf_svm3_prec = precision_score(y_test, y_pred)\n",
    "\n",
    "# Specificity\n",
    "clf_svm3_spec = con_mat[0,0]/(con_mat[0,0] + con_mat[0,1])\n",
    "\n",
    "# Accuracy\n",
    "clf_svm3_acc = accuracy_score(y_test, y_pred)\n",
    "\n",
    "# Area under the ROC \n",
    "clf_svm3_auc = roc_auc_score(y_test, y_pred)\n",
    "\n",
    "clf_svm3_metrics = pd.DataFrame({\"Metric\": [\"F1_score\",\"Sensitivty\", \"Specificity\", \"Precision\", \"Accuracy\", \"AUC\"], \n",
    "                                \"Values\" : [clf_svm3_f1, clf_svm3_sens, clf_svm3_spec, clf_svm3_prec, clf_svm3_acc, clf_svm3_auc]})"
   ]
  },
  {
   "cell_type": "code",
   "execution_count": 68,
   "id": "ecc76c51-891c-4578-986e-e1d00afe49c8",
   "metadata": {},
   "outputs": [
    {
     "data": {
      "text/html": [
       "<div>\n",
       "<style scoped>\n",
       "    .dataframe tbody tr th:only-of-type {\n",
       "        vertical-align: middle;\n",
       "    }\n",
       "\n",
       "    .dataframe tbody tr th {\n",
       "        vertical-align: top;\n",
       "    }\n",
       "\n",
       "    .dataframe thead th {\n",
       "        text-align: right;\n",
       "    }\n",
       "</style>\n",
       "<table border=\"1\" class=\"dataframe\">\n",
       "  <thead>\n",
       "    <tr style=\"text-align: right;\">\n",
       "      <th></th>\n",
       "      <th>Metric</th>\n",
       "      <th>Values</th>\n",
       "    </tr>\n",
       "  </thead>\n",
       "  <tbody>\n",
       "    <tr>\n",
       "      <th>0</th>\n",
       "      <td>F1_score</td>\n",
       "      <td>0.890000</td>\n",
       "    </tr>\n",
       "    <tr>\n",
       "      <th>1</th>\n",
       "      <td>Sensitivty</td>\n",
       "      <td>0.901266</td>\n",
       "    </tr>\n",
       "    <tr>\n",
       "      <th>2</th>\n",
       "      <td>Specificity</td>\n",
       "      <td>0.793249</td>\n",
       "    </tr>\n",
       "    <tr>\n",
       "      <th>3</th>\n",
       "      <td>Precision</td>\n",
       "      <td>0.879012</td>\n",
       "    </tr>\n",
       "    <tr>\n",
       "      <th>4</th>\n",
       "      <td>Accuracy</td>\n",
       "      <td>0.860759</td>\n",
       "    </tr>\n",
       "    <tr>\n",
       "      <th>5</th>\n",
       "      <td>AUC</td>\n",
       "      <td>0.847257</td>\n",
       "    </tr>\n",
       "  </tbody>\n",
       "</table>\n",
       "</div>"
      ],
      "text/plain": [
       "        Metric    Values\n",
       "0     F1_score  0.890000\n",
       "1   Sensitivty  0.901266\n",
       "2  Specificity  0.793249\n",
       "3    Precision  0.879012\n",
       "4     Accuracy  0.860759\n",
       "5          AUC  0.847257"
      ]
     },
     "execution_count": 68,
     "metadata": {},
     "output_type": "execute_result"
    }
   ],
   "source": [
    "clf_svm3_metrics"
   ]
  },
  {
   "cell_type": "code",
   "execution_count": 85,
   "id": "1d02c37e-21d6-4103-b8e3-34cc60bd63f4",
   "metadata": {},
   "outputs": [
    {
     "data": {
      "text/html": [
       "<div>\n",
       "<style scoped>\n",
       "    .dataframe tbody tr th:only-of-type {\n",
       "        vertical-align: middle;\n",
       "    }\n",
       "\n",
       "    .dataframe tbody tr th {\n",
       "        vertical-align: top;\n",
       "    }\n",
       "\n",
       "    .dataframe thead th {\n",
       "        text-align: right;\n",
       "    }\n",
       "</style>\n",
       "<table border=\"1\" class=\"dataframe\">\n",
       "  <thead>\n",
       "    <tr style=\"text-align: right;\">\n",
       "      <th></th>\n",
       "      <th>Metric</th>\n",
       "      <th>SVM_All</th>\n",
       "      <th>SVM_CV</th>\n",
       "      <th>SVM_IMP</th>\n",
       "    </tr>\n",
       "  </thead>\n",
       "  <tbody>\n",
       "    <tr>\n",
       "      <th>0</th>\n",
       "      <td>F1_score</td>\n",
       "      <td>0.836186</td>\n",
       "      <td>0.845105</td>\n",
       "      <td>0.890000</td>\n",
       "    </tr>\n",
       "    <tr>\n",
       "      <th>1</th>\n",
       "      <td>Sensitivty</td>\n",
       "      <td>0.865823</td>\n",
       "      <td>0.863291</td>\n",
       "      <td>0.901266</td>\n",
       "    </tr>\n",
       "    <tr>\n",
       "      <th>2</th>\n",
       "      <td>Specificity</td>\n",
       "      <td>0.658228</td>\n",
       "      <td>0.658228</td>\n",
       "      <td>0.658228</td>\n",
       "    </tr>\n",
       "    <tr>\n",
       "      <th>3</th>\n",
       "      <td>Precision</td>\n",
       "      <td>0.808511</td>\n",
       "      <td>0.827670</td>\n",
       "      <td>0.879012</td>\n",
       "    </tr>\n",
       "    <tr>\n",
       "      <th>4</th>\n",
       "      <td>Accuracy</td>\n",
       "      <td>0.787975</td>\n",
       "      <td>0.802215</td>\n",
       "      <td>0.860759</td>\n",
       "    </tr>\n",
       "    <tr>\n",
       "      <th>5</th>\n",
       "      <td>AUC</td>\n",
       "      <td>0.762025</td>\n",
       "      <td>0.781857</td>\n",
       "      <td>0.847257</td>\n",
       "    </tr>\n",
       "  </tbody>\n",
       "</table>\n",
       "</div>"
      ],
      "text/plain": [
       "        Metric   SVM_All    SVM_CV   SVM_IMP\n",
       "0     F1_score  0.836186  0.845105  0.890000\n",
       "1   Sensitivty  0.865823  0.863291  0.901266\n",
       "2  Specificity  0.658228  0.658228  0.658228\n",
       "3    Precision  0.808511  0.827670  0.879012\n",
       "4     Accuracy  0.787975  0.802215  0.860759\n",
       "5          AUC  0.762025  0.781857  0.847257"
      ]
     },
     "execution_count": 85,
     "metadata": {},
     "output_type": "execute_result"
    }
   ],
   "source": [
    "pd.DataFrame({\"Metric\" : clf_svm_metrics.Metric,  \n",
    "              \"SVM_All\" : clf_svm_metrics.Values, \n",
    "              \"SVM_CV\" : clf_svm_best_metrics.Values, \n",
    "              \"SVM_IMP\" : clf_svm3_metrics.Values})"
   ]
  },
  {
   "cell_type": "code",
   "execution_count": 83,
   "id": "f6ec6045-fd03-4228-8a96-614322d202ae",
   "metadata": {},
   "outputs": [
    {
     "data": {
      "text/plain": [
       "0    0.836186\n",
       "1    0.865823\n",
       "2    0.658228\n",
       "3    0.808511\n",
       "4    0.787975\n",
       "5    0.762025\n",
       "Name: Values, dtype: float64"
      ]
     },
     "execution_count": 83,
     "metadata": {},
     "output_type": "execute_result"
    }
   ],
   "source": []
  },
  {
   "cell_type": "code",
   "execution_count": null,
   "id": "ced56d5a-5401-4101-a3a7-5479ceae9ba3",
   "metadata": {},
   "outputs": [],
   "source": []
  }
 ],
 "metadata": {
  "kernelspec": {
   "display_name": "Python 3 (ipykernel)",
   "language": "python",
   "name": "python3"
  },
  "language_info": {
   "codemirror_mode": {
    "name": "ipython",
    "version": 3
   },
   "file_extension": ".py",
   "mimetype": "text/x-python",
   "name": "python",
   "nbconvert_exporter": "python",
   "pygments_lexer": "ipython3",
   "version": "3.9.19"
  }
 },
 "nbformat": 4,
 "nbformat_minor": 5
}
